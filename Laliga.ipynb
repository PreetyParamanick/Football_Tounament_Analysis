{
 "cells": [
  {
   "cell_type": "markdown",
   "metadata": {},
   "source": [
    "# La Liga cup (Football tournament) Analysis\n",
    "                       -By Preety Paramanick"
   ]
  },
  {
   "cell_type": "code",
   "execution_count": 1,
   "metadata": {},
   "outputs": [
    {
     "data": {
      "text/html": [
       "<div>\n",
       "<style scoped>\n",
       "    .dataframe tbody tr th:only-of-type {\n",
       "        vertical-align: middle;\n",
       "    }\n",
       "\n",
       "    .dataframe tbody tr th {\n",
       "        vertical-align: top;\n",
       "    }\n",
       "\n",
       "    .dataframe thead th {\n",
       "        text-align: right;\n",
       "    }\n",
       "</style>\n",
       "<table border=\"1\" class=\"dataframe\">\n",
       "  <thead>\n",
       "    <tr style=\"text-align: right;\">\n",
       "      <th></th>\n",
       "      <th>Pos</th>\n",
       "      <th>Team</th>\n",
       "      <th>Seasons</th>\n",
       "      <th>Points</th>\n",
       "      <th>GamesPlayed</th>\n",
       "      <th>GamesWon</th>\n",
       "      <th>GamesDrawn</th>\n",
       "      <th>GamesLost</th>\n",
       "      <th>GoalsFor</th>\n",
       "      <th>GoalsAgainst</th>\n",
       "      <th>Champion</th>\n",
       "      <th>Runner-up</th>\n",
       "      <th>Third</th>\n",
       "      <th>Fourth</th>\n",
       "      <th>Fifth</th>\n",
       "      <th>Sixth</th>\n",
       "      <th>T</th>\n",
       "      <th>Debut</th>\n",
       "      <th>Since/LastApp</th>\n",
       "      <th>BestPosition</th>\n",
       "    </tr>\n",
       "  </thead>\n",
       "  <tbody>\n",
       "    <tr>\n",
       "      <th>0</th>\n",
       "      <td>1</td>\n",
       "      <td>Real Madrid</td>\n",
       "      <td>86</td>\n",
       "      <td>4385</td>\n",
       "      <td>2762</td>\n",
       "      <td>1647</td>\n",
       "      <td>552</td>\n",
       "      <td>563</td>\n",
       "      <td>5947</td>\n",
       "      <td>3140</td>\n",
       "      <td>33</td>\n",
       "      <td>23</td>\n",
       "      <td>8</td>\n",
       "      <td>8</td>\n",
       "      <td>3</td>\n",
       "      <td>4</td>\n",
       "      <td>79</td>\n",
       "      <td>1929</td>\n",
       "      <td>1929</td>\n",
       "      <td>1</td>\n",
       "    </tr>\n",
       "    <tr>\n",
       "      <th>1</th>\n",
       "      <td>2</td>\n",
       "      <td>Barcelona</td>\n",
       "      <td>86</td>\n",
       "      <td>4262</td>\n",
       "      <td>2762</td>\n",
       "      <td>1581</td>\n",
       "      <td>573</td>\n",
       "      <td>608</td>\n",
       "      <td>5900</td>\n",
       "      <td>3114</td>\n",
       "      <td>25</td>\n",
       "      <td>25</td>\n",
       "      <td>12</td>\n",
       "      <td>12</td>\n",
       "      <td>4</td>\n",
       "      <td>6</td>\n",
       "      <td>83</td>\n",
       "      <td>1929</td>\n",
       "      <td>1929</td>\n",
       "      <td>1</td>\n",
       "    </tr>\n",
       "    <tr>\n",
       "      <th>2</th>\n",
       "      <td>3</td>\n",
       "      <td>Atletico Madrid</td>\n",
       "      <td>80</td>\n",
       "      <td>3442</td>\n",
       "      <td>2614</td>\n",
       "      <td>1241</td>\n",
       "      <td>598</td>\n",
       "      <td>775</td>\n",
       "      <td>4534</td>\n",
       "      <td>3309</td>\n",
       "      <td>10</td>\n",
       "      <td>8</td>\n",
       "      <td>16</td>\n",
       "      <td>9</td>\n",
       "      <td>7</td>\n",
       "      <td>6</td>\n",
       "      <td>56</td>\n",
       "      <td>1929</td>\n",
       "      <td>2002-03</td>\n",
       "      <td>1</td>\n",
       "    </tr>\n",
       "    <tr>\n",
       "      <th>3</th>\n",
       "      <td>4</td>\n",
       "      <td>Valencia</td>\n",
       "      <td>82</td>\n",
       "      <td>3386</td>\n",
       "      <td>2664</td>\n",
       "      <td>1187</td>\n",
       "      <td>616</td>\n",
       "      <td>861</td>\n",
       "      <td>4398</td>\n",
       "      <td>3469</td>\n",
       "      <td>6</td>\n",
       "      <td>6</td>\n",
       "      <td>10</td>\n",
       "      <td>11</td>\n",
       "      <td>10</td>\n",
       "      <td>7</td>\n",
       "      <td>50</td>\n",
       "      <td>1931-32</td>\n",
       "      <td>1987-88</td>\n",
       "      <td>1</td>\n",
       "    </tr>\n",
       "    <tr>\n",
       "      <th>4</th>\n",
       "      <td>5</td>\n",
       "      <td>Athletic Bilbao</td>\n",
       "      <td>86</td>\n",
       "      <td>3368</td>\n",
       "      <td>2762</td>\n",
       "      <td>1209</td>\n",
       "      <td>633</td>\n",
       "      <td>920</td>\n",
       "      <td>4631</td>\n",
       "      <td>3700</td>\n",
       "      <td>8</td>\n",
       "      <td>7</td>\n",
       "      <td>10</td>\n",
       "      <td>5</td>\n",
       "      <td>8</td>\n",
       "      <td>10</td>\n",
       "      <td>49</td>\n",
       "      <td>1929</td>\n",
       "      <td>1929</td>\n",
       "      <td>1</td>\n",
       "    </tr>\n",
       "  </tbody>\n",
       "</table>\n",
       "</div>"
      ],
      "text/plain": [
       "   Pos             Team  Seasons Points GamesPlayed GamesWon GamesDrawn  \\\n",
       "0    1      Real Madrid       86   4385        2762     1647        552   \n",
       "1    2        Barcelona       86   4262        2762     1581        573   \n",
       "2    3  Atletico Madrid       80   3442        2614     1241        598   \n",
       "3    4         Valencia       82   3386        2664     1187        616   \n",
       "4    5  Athletic Bilbao       86   3368        2762     1209        633   \n",
       "\n",
       "  GamesLost GoalsFor GoalsAgainst Champion Runner-up Third Fourth Fifth Sixth  \\\n",
       "0       563     5947         3140       33        23     8      8     3     4   \n",
       "1       608     5900         3114       25        25    12     12     4     6   \n",
       "2       775     4534         3309       10         8    16      9     7     6   \n",
       "3       861     4398         3469        6         6    10     11    10     7   \n",
       "4       920     4631         3700        8         7    10      5     8    10   \n",
       "\n",
       "    T    Debut Since/LastApp  BestPosition  \n",
       "0  79     1929          1929             1  \n",
       "1  83     1929          1929             1  \n",
       "2  56     1929       2002-03             1  \n",
       "3  50  1931-32       1987-88             1  \n",
       "4  49     1929          1929             1  "
      ]
     },
     "execution_count": 1,
     "metadata": {},
     "output_type": "execute_result"
    }
   ],
   "source": [
    "import pandas as pd\n",
    "import numpy as np\n",
    "\n",
    "# Load the Laliga dataset\n",
    "laliga_df = pd.read_csv('Laliga.csv', header=1)\n",
    "\n",
    "# Display the first few rows of the dataset\n",
    "laliga_df.head()"
   ]
  },
  {
   "cell_type": "markdown",
   "metadata": {},
   "source": [
    " 1.Read the data set and replace dashes with 0 to make sure you can perform arithmetic operations on the data. "
   ]
  },
  {
   "cell_type": "code",
   "execution_count": 2,
   "metadata": {},
   "outputs": [],
   "source": [
    "# Replace dashes with 0 in the dataframe\n",
    "laliga_df.replace('-', 0, inplace=True)"
   ]
  },
  {
   "cell_type": "markdown",
   "metadata": {},
   "source": [
    " 2.Print all the teams which have started playing between 1930-1980."
   ]
  },
  {
   "cell_type": "code",
   "execution_count": 3,
   "metadata": {},
   "outputs": [
    {
     "name": "stdout",
     "output_type": "stream",
     "text": [
      "3                Valencia\n",
      "5                 Sevilla\n",
      "8                Zaragoza\n",
      "9              Real Betis\n",
      "10    Deportivo La Coruna\n",
      "11             Celta Vigo\n",
      "12             Valladolid\n",
      "14         Sporting Gijon\n",
      "15                Osasuna\n",
      "16                 Malaga\n",
      "17                 Oviedo\n",
      "18               Mallorca\n",
      "19             Las Palmas\n",
      "21                Granada\n",
      "22         Rayo Vallecano\n",
      "23                  Elche\n",
      "25               Hercules\n",
      "26               Tenerife\n",
      "27                 Murcia\n",
      "28                 Alaves\n",
      "29                Levante\n",
      "30              Salamanca\n",
      "31               Sabadell\n",
      "32                  Cadiz\n",
      "34              Castellon\n",
      "37                Cordoba\n",
      "39             Recreativo\n",
      "40              Burgos CF\n",
      "41             Pontevedra\n",
      "46              Gimnastic\n",
      "49               Alcoyano\n",
      "50                   Jaen\n",
      "52             AD Almeria\n",
      "54                 Lleida\n",
      "57                 Condal\n",
      "58        Atletico Tetuan\n",
      "59       Cultural Leonesa\n",
      "Name: Team, dtype: object\n"
     ]
    }
   ],
   "source": [
    "# Print all the teams which have started playing between 1930-1980\n",
    "start_year = laliga_df['Debut'].str[:4].astype(int)\n",
    "teams_between_1930_1980 = laliga_df[(start_year >= 1930) & (start_year <= 1980)]['Team']\n",
    "# Print the teams that started playing between 1930-1980\n",
    "print(teams_between_1930_1980)"
   ]
  },
  {
   "cell_type": "markdown",
   "metadata": {},
   "source": [
    " 3.Print the list of teams which came Top 5 in terms of points "
   ]
  },
  {
   "cell_type": "code",
   "execution_count": 4,
   "metadata": {},
   "outputs": [
    {
     "name": "stdout",
     "output_type": "stream",
     "text": [
      "The top 5 teams with most points are:\n",
      " 0        Real Madrid\n",
      "1          Barcelona\n",
      "2    Atletico Madrid\n",
      "3           Valencia\n",
      "4    Athletic Bilbao\n",
      "Name: Team, dtype: object\n"
     ]
    }
   ],
   "source": [
    "# Print the list of teams which came Top 5 in terms of points\n",
    "laliga_df['Points'] = pd.to_numeric(laliga_df['Points'])\n",
    "top_5_teams_points = laliga_df.nlargest(5, 'Points')['Team']\n",
    "#Print Top 5 points to display\n",
    "print(\"The top 5 teams with most points are:\\n\",top_5_teams_points)"
   ]
  },
  {
   "cell_type": "markdown",
   "metadata": {},
   "source": [
    " 4.Write a function with name “Goal_diff_count” which should return all the teams with their Goal Differences. Using the same function, find the team which has maximum and minimum goal difference."
   ]
  },
  {
   "cell_type": "code",
   "execution_count": 5,
   "metadata": {},
   "outputs": [
    {
     "name": "stdout",
     "output_type": "stream",
     "text": [
      "                Team  GoalDiff\n",
      "0        Real Madrid      2807\n",
      "1          Barcelona      2786\n",
      "2    Atletico Madrid      1225\n",
      "3           Valencia       929\n",
      "4    Athletic Bilbao       931\n",
      "..               ...       ...\n",
      "56             Xerez       -28\n",
      "57            Condal       -20\n",
      "58   Atletico Tetuan       -34\n",
      "59  Cultural Leonesa       -31\n",
      "60            Girona         0\n",
      "\n",
      "[61 rows x 2 columns]\n"
     ]
    }
   ],
   "source": [
    "# Define a function to calculate Goal Difference\n",
    "\n",
    "def Goal_diff_count(df):\n",
    "    df['GoalsFor'] = pd.to_numeric(df['GoalsFor'])\n",
    "    df['GoalsAgainst'] = pd.to_numeric(df['GoalsAgainst'])\n",
    "    df['GoalDiff'] = df['GoalsFor'] - df['GoalsAgainst']\n",
    "    return df[['Team', 'GoalDiff']]\n",
    "\n",
    "# Calculate Goal Difference for all teams\n",
    "goal_diff_all_teams = Goal_diff_count(laliga_df)\n",
    "#Display Goal Difference\n",
    "print(goal_diff_all_teams)\n"
   ]
  },
  {
   "cell_type": "code",
   "execution_count": 6,
   "metadata": {},
   "outputs": [
    {
     "name": "stdout",
     "output_type": "stream",
     "text": [
      "Maximum Goal Difference:\n",
      " Real Madrid 2807\n",
      "Minimum Goal Difference:\n",
      " Racing Santander -525\n"
     ]
    }
   ],
   "source": [
    "\n",
    "# Find the team with maximum and minimum goal difference\n",
    "max_goal_diff_team = goal_diff_all_teams.nlargest(1, 'GoalDiff')['Team'].values[0]\n",
    "min_goal_diff_team = goal_diff_all_teams.nsmallest(1, 'GoalDiff')['Team'].values[0]\n",
    "\n",
    "max_goal_diff = goal_diff_all_teams['GoalDiff'].max()\n",
    "min_goal_diff = goal_diff_all_teams['GoalDiff'].min()\n",
    "\n",
    "print(\"Maximum Goal Difference:\\n\",max_goal_diff_team,max_goal_diff) \n",
    "print(\"Minimum Goal Difference:\\n\",min_goal_diff_team, min_goal_diff)"
   ]
  },
  {
   "cell_type": "markdown",
   "metadata": {},
   "source": [
    " 5.Create a new column with name “Winning Percent” and append it to the data set \n",
    "\n",
    "Percentage of Winning = (GamesWon / GamesPlayed)*100\n",
    "\n",
    "If there are any numerical error, replace it with 0%\n",
    "\n",
    "Print the top 5 teams which has the highest Winning percentage"
   ]
  },
  {
   "cell_type": "code",
   "execution_count": 7,
   "metadata": {},
   "outputs": [
    {
     "name": "stdout",
     "output_type": "stream",
     "text": [
      "              Team  Winning Percent\n",
      "0      Real Madrid        59.630702\n",
      "1        Barcelona        57.241130\n",
      "2  Atletico Madrid        47.475134\n",
      "3         Valencia        44.557057\n",
      "4  Athletic Bilbao        43.772629\n"
     ]
    }
   ],
   "source": [
    "def convert_to_numeric(column):\n",
    "    laliga_df[column] = pd.to_numeric(laliga_df[column], errors='coerce').fillna(0).astype(int)\n",
    "\n",
    "convert_to_numeric('GamesWon')\n",
    "convert_to_numeric('GamesPlayed')\n",
    "\n",
    "# Create 'Winning Percent' column\n",
    "laliga_df['Winning Percent'] = (laliga_df['GamesWon'] / laliga_df['GamesPlayed']) * 100\n",
    "laliga_df['Winning Percent'] = laliga_df['Winning Percent'].fillna(0)\n",
    "\n",
    "# Print the top 5 teams with the highest Winning percentage\n",
    "top_5_winning_percent = laliga_df.nlargest(5, 'Winning Percent')[['Team', 'Winning Percent']]\n",
    "print(top_5_winning_percent)"
   ]
  },
  {
   "cell_type": "markdown",
   "metadata": {},
   "source": [
    " 6.Group teams based on their “Best position” and print the sum of their points for all positions "
   ]
  },
  {
   "cell_type": "code",
   "execution_count": 8,
   "metadata": {},
   "outputs": [
    {
     "name": "stdout",
     "output_type": "stream",
     "text": [
      "    BestPosition  Points\n",
      "0              1   27933\n",
      "1              2    6904\n",
      "2              3    5221\n",
      "3              4    6563\n",
      "4              5    1884\n",
      "5              6    2113\n",
      "6              7    1186\n",
      "7              8    1134\n",
      "8              9      96\n",
      "9             10     450\n",
      "10            11     445\n",
      "11            12     511\n",
      "12            14      71\n",
      "13            15      14\n",
      "14            16      81\n",
      "15            17     266\n",
      "16            19      81\n",
      "17            20      34\n"
     ]
    }
   ],
   "source": [
    "# Group teams based on their 'Best Position' and print the sum of their points for all positions\n",
    "best_position_points = laliga_df.groupby('BestPosition')['Points'].sum().reset_index()\n",
    "print(best_position_points)"
   ]
  }
 ],
 "metadata": {
  "kernelspec": {
   "display_name": "Python 3",
   "language": "python",
   "name": "python3"
  },
  "language_info": {
   "codemirror_mode": {
    "name": "ipython",
    "version": 3
   },
   "file_extension": ".py",
   "mimetype": "text/x-python",
   "name": "python",
   "nbconvert_exporter": "python",
   "pygments_lexer": "ipython3",
   "version": "3.12.0"
  }
 },
 "nbformat": 4,
 "nbformat_minor": 2
}
